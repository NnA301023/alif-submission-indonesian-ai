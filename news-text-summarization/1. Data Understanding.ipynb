{
 "cells": [
  {
   "cell_type": "code",
   "execution_count": 1,
   "id": "f853cb47",
   "metadata": {},
   "outputs": [],
   "source": [
    "# Downgrade protobuf version due \n",
    "# !pip install protobuf==3.20.0\n",
    "# !pip list\n",
    "# pip install transformers[torch]==4.3"
   ]
  },
  {
   "cell_type": "code",
   "execution_count": 11,
   "id": "88289e0a",
   "metadata": {},
   "outputs": [],
   "source": [
    "# Load libraries \n",
    "import os\n",
    "import json\n",
    "import rouge\n",
    "import pandas as pd\n",
    "from transformers import T5Tokenizer, T5Model, T5ForConditionalGeneration"
   ]
  },
  {
   "cell_type": "code",
   "execution_count": 4,
   "id": "893a5665",
   "metadata": {
    "scrolled": true
   },
   "outputs": [
    {
     "data": {
      "application/vnd.jupyter.widget-view+json": {
       "model_id": "24b15e9c40ee402296f98f632adc28c7",
       "version_major": 2,
       "version_minor": 0
      },
      "text/plain": [
       "Downloading:   0%|          | 0.00/793k [00:00<?, ?B/s]"
      ]
     },
     "metadata": {},
     "output_type": "display_data"
    },
    {
     "data": {
      "application/vnd.jupyter.widget-view+json": {
       "model_id": "c341cf5712294329872fcbcc39132730",
       "version_major": 2,
       "version_minor": 0
      },
      "text/plain": [
       "Downloading:   0%|          | 0.00/1.79k [00:00<?, ?B/s]"
      ]
     },
     "metadata": {},
     "output_type": "display_data"
    },
    {
     "data": {
      "application/vnd.jupyter.widget-view+json": {
       "model_id": "f0ef7562204b48adab1a71adfad0ff6e",
       "version_major": 2,
       "version_minor": 0
      },
      "text/plain": [
       "Downloading:   0%|          | 0.00/2.07k [00:00<?, ?B/s]"
      ]
     },
     "metadata": {},
     "output_type": "display_data"
    },
    {
     "data": {
      "application/vnd.jupyter.widget-view+json": {
       "model_id": "7af83e8fb47145e7a3a9a2214c9dbff5",
       "version_major": 2,
       "version_minor": 0
      },
      "text/plain": [
       "Downloading:   0%|          | 0.00/657 [00:00<?, ?B/s]"
      ]
     },
     "metadata": {},
     "output_type": "display_data"
    },
    {
     "data": {
      "application/vnd.jupyter.widget-view+json": {
       "model_id": "3cd51f4ed9b845c794fb039d47ffa792",
       "version_major": 2,
       "version_minor": 0
      },
      "text/plain": [
       "Downloading:   0%|          | 0.00/892M [00:00<?, ?B/s]"
      ]
     },
     "metadata": {},
     "output_type": "display_data"
    }
   ],
   "source": [
    "# Load pretrained model\n",
    "tokenizer = T5Tokenizer.from_pretrained(\"cahya/t5-base-indonesian-summarization-cased\")\n",
    "model = T5ForConditionalGeneration.from_pretrained(\"cahya/t5-base-indonesian-summarization-cased\")"
   ]
  },
  {
   "cell_type": "code",
   "execution_count": 7,
   "id": "c5d369b8",
   "metadata": {},
   "outputs": [
    {
     "data": {
      "text/plain": [
       "['100000.json', '100002.json', '100003.json', '100004.json', '100005.json']"
      ]
     },
     "execution_count": 7,
     "metadata": {},
     "output_type": "execute_result"
    }
   ],
   "source": [
    "# Check current file\n",
    "os.listdir(\n",
    "\"dataset/liputan6_data/liputan6_data/canonical/train\"\n",
    ")[:5]"
   ]
  },
  {
   "cell_type": "code",
   "execution_count": 9,
   "id": "fd912537",
   "metadata": {},
   "outputs": [],
   "source": [
    "# Load sample json data\n",
    "data_sample = json.load(open(\n",
    "    \"dataset/liputan6_data/liputan6_data/canonical/train/100000.json\", \"r\"\n",
    "))"
   ]
  },
  {
   "cell_type": "code",
   "execution_count": 22,
   "id": "bba5b912",
   "metadata": {
    "scrolled": false
   },
   "outputs": [
    {
     "name": "stdout",
     "output_type": "stream",
     "text": [
      "Liputan6 . com , Jakarta : Presiden Susilo Bambang Yudhoyono menekankan bahwa tantangan terbesar yang dihadapi bangsa-bangsa Asia dan Afrika saat ini adalah masalah kemiskinan yang sangat buruk . Yudhoyono berharap masalah ini menjadi pembahasan penting dalam Konferensi Tingkat Tinggi Asia-Afrika . Demikian pidato Yudhoyono saat membuka KTT Asia-Afrika di Jakarta Convention Centre , Jakarta , Jumat ( 22/4 ) [ baca : Presiden Yudhoyono Resmi Membuka KAA ] . Pada awal pidatonya , Yudhoyono para peserta untuk mengheningkan cipta sejenak bagi korban gempa dan Tsunami di Nanggroe Aceh Darussalam dan Nias , Sumatra Utara . Selanjutnya , Yudhoyono menegaskan pertemuan ini bukanlah sekadar romantisme , tetapi upaya bersama untuk memecahkan masalah yang dihadapi kedua benua . Acara pembukaan konferensi ini juga dihadiri Sekretaris Jenderal Perserikatan Bangsa-Bangsa Kofi Annan yang datang sebagai tamu kehormatan . Meski fokusnya adalah mempererat hubungan antara Asia dan Afrika , konferensi ini dipastikan akan diwarnai sejumlah pertemuan bilateral . KTT Asia-Afrika akan berlangsung selama dua hari . Kegiatan ini akan diakhiri dengan acara napak tilas ke Kota Bandung , Jawa Barat , tempat berlangsungnya Konferensi Asia Afrika pada 1955 . Sementara itu , para istri kepala negara yang hadir di peringatan emas KAA mengikuti Ladies Program yang disuguhkan Ibu Negara Nyonya Ani Yudhoyono . Acara gelar budaya indonesia ini berlangsung di Sasono Langen Budoyo , Taman Mini Indonesia Indah , Jakarta Timur . Kegiatan yang dimulai sekitar pukul 10 . 30 WIB ini diawali dengan tarian dan atraksi selamat datang Reog Ponorogo . Ibu Ani menyalami satu per satu ibu negara dari 28 negara peserta yang datang . Kemudian dilanjutkan dengan acara foto bersama . Dalam sambutannya , Ibu Ani berharap agar semangat KAA semakin mempererat hubungan antarbangsa di benua Asia dan Afrika . Selanjutnya Ibu Negara dan para tamu menyaksikan peragaan busana dari tiga perancang busana Indonesia yakni Ramli , Adjie Notonegoro , dan Afif Syakur . Kunjungan ke beberapa anjungan yang ada di TMII juga dilakukan . ( AWD/Ali Rojihi dan Teguh Dwi Hartono ) .\n"
     ]
    }
   ],
   "source": [
    "# Define sample preprocessed article \n",
    "ARTICLE_TO_SUMMARIZE = \" \".join(sum(data_sample['clean_article'], []))\n",
    "print(ARTICLE_TO_SUMMARIZE)"
   ]
  },
  {
   "cell_type": "code",
   "execution_count": 23,
   "id": "b72b670b",
   "metadata": {},
   "outputs": [],
   "source": [
    "# Encode sentence using pretrained model\n",
    "input_ids = tokenizer.encode(ARTICLE_TO_SUMMARIZE, return_tensors = \"pt\")"
   ]
  },
  {
   "cell_type": "code",
   "execution_count": 31,
   "id": "dd691e99",
   "metadata": {},
   "outputs": [
    {
     "name": "stdout",
     "output_type": "stream",
     "text": [
      "CPU times: total: 26.2 s\n",
      "Wall time: 11.3 s\n"
     ]
    }
   ],
   "source": [
    "%%time\n",
    "# Generate summary\n",
    "summary_ids = model.generate(\n",
    "    input_ids, min_length = 25, max_length = 75, \n",
    "    num_beams = 10, repetition_penalty = 2.5, \n",
    "    length_penalty = 1.0, early_stopping = True, \n",
    "    no_repeat_ngram_size = 3, use_cache = True, \n",
    "    temperature = 0.9, top_k = 10, top_p = 0.9\n",
    ")"
   ]
  },
  {
   "cell_type": "code",
   "execution_count": 32,
   "id": "d799ea8f",
   "metadata": {},
   "outputs": [
    {
     "name": "stdout",
     "output_type": "stream",
     "text": [
      "Presiden Yudhoyono berharap masalah kemiskinan menjadi pembahasan penting dalam KTT Asia-Afrika. Acara pembukaan konferensi ini juga dihadiri Sekjen PBB Kofi Annan yang datang sebagai tamu kehormatan.\n"
     ]
    }
   ],
   "source": [
    "summary_text = tokenizer.decode(summary_ids[0], skip_special_tokens=True)\n",
    "print(summary_text)"
   ]
  },
  {
   "cell_type": "markdown",
   "id": "da4477c5",
   "metadata": {},
   "source": [
    "![](https://miro.medium.com/v2/resize:fit:1400/1*g-Ucb9QosEBkRI0Jv31ZPQ.png)"
   ]
  },
  {
   "cell_type": "code",
   "execution_count": 34,
   "id": "0720d092",
   "metadata": {},
   "outputs": [],
   "source": [
    "# Inherit ROUGE scoring\n",
    "rouge_scoring = rouge.Rouge()"
   ]
  },
  {
   "cell_type": "code",
   "execution_count": 35,
   "id": "702aac15",
   "metadata": {},
   "outputs": [
    {
     "data": {
      "text/plain": [
       "[{'rouge-1': {'r': 0.9230769230769231,\n",
       "   'p': 0.11822660098522167,\n",
       "   'f': 0.2096069848866345},\n",
       "  'rouge-2': {'r': 0.76, 'p': 0.06418918918918919, 'f': 0.1183800608689745},\n",
       "  'rouge-l': {'r': 0.9230769230769231,\n",
       "   'p': 0.11822660098522167,\n",
       "   'f': 0.2096069848866345}}]"
      ]
     },
     "execution_count": 35,
     "metadata": {},
     "output_type": "execute_result"
    }
   ],
   "source": [
    "rouge_scoring.get_scores(\n",
    "    ARTICLE_TO_SUMMARIZE, summary_text\n",
    ")"
   ]
  }
 ],
 "metadata": {
  "kernelspec": {
   "display_name": "test",
   "language": "python",
   "name": "test"
  },
  "language_info": {
   "codemirror_mode": {
    "name": "ipython",
    "version": 3
   },
   "file_extension": ".py",
   "mimetype": "text/x-python",
   "name": "python",
   "nbconvert_exporter": "python",
   "pygments_lexer": "ipython3",
   "version": "3.9.7"
  }
 },
 "nbformat": 4,
 "nbformat_minor": 5
}
